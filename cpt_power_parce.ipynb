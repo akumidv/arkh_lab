{
 "cells": [
  {
   "cell_type": "markdown",
   "metadata": {},
   "source": [
    "# ЛАБОРАТОРИЯ"
   ]
  },
  {
   "cell_type": "markdown",
   "metadata": {},
   "source": [
    "# Часть I. Сбор и предварительная обработка данных"
   ]
  },
  {
   "cell_type": "markdown",
   "metadata": {},
   "source": [
    "## Оглавление"
   ]
  },
  {
   "cell_type": "markdown",
   "metadata": {},
   "source": [
    "[Библиотеки и утилиты](#Библиотеки-и-утилиты)\n",
    "\n",
    "[Разбор сырых данных](#Разбор-сырых-данных)\n",
    "\n",
    "[Предварительная обработка и анализ](#Предварительная-обработка-и-анализ)"
   ]
  },
  {
   "cell_type": "markdown",
   "metadata": {},
   "source": [
    "### Библиотеки и утилиты"
   ]
  },
  {
   "cell_type": "code",
   "execution_count": 1,
   "metadata": {},
   "outputs": [],
   "source": [
    "import os\n",
    "import numpy as np\n",
    "import pandas as pd\n",
    "import xml.etree.ElementTree as ET\n",
    "import matplotlib.pyplot as plt\n",
    "from tqdm.notebook import tqdm\n",
    "from datetime import datetime\n",
    "pd.set_option('display.max_columns', None)"
   ]
  },
  {
   "cell_type": "markdown",
   "metadata": {},
   "source": [
    "### Разбор сырых данных"
   ]
  },
  {
   "cell_type": "code",
   "execution_count": 2,
   "metadata": {},
   "outputs": [],
   "source": [
    "def get_node_dict(node):\n",
    "    node_dict = {}\n",
    "    for item in node.items():\n",
    "        key = '{}_{}'.format(node.tag, item[0])\n",
    "        value = item[1]\n",
    "        node_dict.update({key: value})\n",
    "        node_dict.update({'{}_text'.format(node.tag): node.text.strip()})\n",
    "    return node_dict\n",
    "\n",
    "def get_data_root(root):\n",
    "    head_dict = get_node_dict(root)\n",
    "    data = []\n",
    "    for ch in root:\n",
    "        if ch.tag == 'area':\n",
    "            head_dict.update(get_node_dict(ch))\n",
    "        else:\n",
    "            for item in ch:\n",
    "                if item.tag != 'measuringpoint':\n",
    "                    head_dict.update({item.tag: item.text})\n",
    "    for ch in root[2]:\n",
    "        if ch.tag == 'measuringpoint':\n",
    "            for mp in ch:\n",
    "                for per in mp:\n",
    "                    data_dict = {}\n",
    "                    data_dict.update(head_dict)\n",
    "                    data_dict.update(get_node_dict(ch))\n",
    "                    data_dict.update(get_node_dict(mp))\n",
    "                    data_dict.update(get_node_dict(per))\n",
    "                    data_dict.update(get_node_dict(per[0]))\n",
    "                    data.append(data_dict)\n",
    "    return data"
   ]
  },
  {
   "cell_type": "code",
   "execution_count": 3,
   "metadata": {},
   "outputs": [
    {
     "name": "stdout",
     "output_type": "stream",
     "text": [
      "total files: 92\n",
      "first files: ['80020_7710353606_20180301_212_99872681.xml', '80020_7710353606_20180302_212_99872681.xml', '80020_7710353606_20180303_212_99872681.xml']\n"
     ]
    },
    {
     "data": {
      "application/vnd.jupyter.widget-view+json": {
       "model_id": "e86f273fd6b34fa5a628ba664e97b967",
       "version_major": 2,
       "version_minor": 0
      },
      "text/plain": [
       "HBox(children=(FloatProgress(value=0.0, max=92.0), HTML(value='')))"
      ]
     },
     "metadata": {},
     "output_type": "display_data"
    },
    {
     "name": "stdout",
     "output_type": "stream",
     "text": [
      "\n",
      "done records:  44160\n"
     ]
    }
   ],
   "source": [
    "PATH = '.'\n",
    "files_list = os.listdir(f'{PATH}/data_anmz')\n",
    "print('total files:', len(files_list))\n",
    "print('first files:', files_list[:3])\n",
    "data_total = []\n",
    "for file_name in tqdm(files_list):\n",
    "    if '.xml' in file_name:\n",
    "        tree = ET.parse(f'{PATH}/data_anmz/{file_name}')\n",
    "        root = tree.getroot()\n",
    "        data_total.extend(get_data_root(root))\n",
    "    else:\n",
    "        print(file)\n",
    "print('done records: ', len(data_total))"
   ]
  },
  {
   "cell_type": "markdown",
   "metadata": {},
   "source": [
    "### Предварительная обработка и анализ"
   ]
  },
  {
   "cell_type": "code",
   "execution_count": 4,
   "metadata": {},
   "outputs": [
    {
     "name": "stdout",
     "output_type": "stream",
     "text": [
      "dataframe created of shape:  (44160, 23)\n",
      "timestamps done\n",
      "chanels: 1\n",
      "measure points: 10\n",
      "days: 92\n",
      "length of one time series: 4416\n",
      "<class 'pandas.core.frame.DataFrame'>\n",
      "Int64Index: 44160 entries, 0 to 44063\n",
      "Data columns (total 24 columns):\n",
      " #   Column                 Non-Null Count  Dtype         \n",
      "---  ------                 --------------  -----         \n",
      " 0   message_class          44160 non-null  object        \n",
      " 1   message_text           44160 non-null  object        \n",
      " 2   message_version        44160 non-null  object        \n",
      " 3   message_number         44160 non-null  object        \n",
      " 4   daylightsavingtime     44160 non-null  object        \n",
      " 5   day                    44160 non-null  object        \n",
      " 6   timestamp              44160 non-null  object        \n",
      " 7   name                   44160 non-null  object        \n",
      " 8   inn                    44160 non-null  object        \n",
      " 9   area_timezone          44160 non-null  object        \n",
      " 10  area_text              44160 non-null  object        \n",
      " 11  measuringpoint_code    44160 non-null  object        \n",
      " 12  measuringpoint_text    44160 non-null  object        \n",
      " 13  measuringpoint_name    44160 non-null  object        \n",
      " 14  measuringpoint_serial  44160 non-null  object        \n",
      " 15  measuringchannel_code  44160 non-null  object        \n",
      " 16  measuringchannel_text  44160 non-null  object        \n",
      " 17  measuringchannel_desc  44160 non-null  object        \n",
      " 18  period_start           44160 non-null  object        \n",
      " 19  period_text            44160 non-null  object        \n",
      " 20  period_end             44160 non-null  object        \n",
      " 21  value_status           44160 non-null  object        \n",
      " 22  value_text             44160 non-null  float64       \n",
      " 23  timestamp_value        44160 non-null  datetime64[ns]\n",
      "dtypes: datetime64[ns](1), float64(1), object(22)\n",
      "memory usage: 8.4+ MB\n"
     ]
    }
   ],
   "source": [
    "df = pd.DataFrame(data_total)\n",
    "print('dataframe created of shape: ', df.shape)\n",
    "df['value_text'] = pd.to_numeric(df['value_text'])\n",
    "df['timestamp_value'] = df.apply(lambda x: '{} {}'.format(x['day'], x['period_start']), axis=1)\n",
    "df['timestamp_value'] = df.apply(lambda x: datetime.strptime(x['timestamp_value'], '%Y%m%d %H%M'), axis=1)\n",
    "df = df.sort_values(['measuringpoint_serial', 'timestamp_value'], ascending=[True, True])\n",
    "print('timestamps done')\n",
    "print(\n",
    "    'chanels:', \n",
    "    len(df['measuringchannel_code'].unique())\n",
    ")\n",
    "print(\n",
    "    'measure points:', \n",
    "    len(df['measuringpoint_serial'].unique())\n",
    ")\n",
    "print(\n",
    "    'days:', \n",
    "    len(df['day'].unique())\n",
    ")\n",
    "print(\n",
    "    'length of one time series:', \n",
    "    int(df.shape[0] / len(df['measuringchannel_code'].unique()) / len(df['measuringpoint_serial'].unique()))\n",
    ")\n",
    "df.info()"
   ]
  },
  {
   "cell_type": "code",
   "execution_count": null,
   "metadata": {},
   "outputs": [],
   "source": [
    "df.head()"
   ]
  },
  {
   "cell_type": "code",
   "execution_count": null,
   "metadata": {},
   "outputs": [],
   "source": [
    "for col in df:\n",
    "    print(f'{col}:', df[col].unique())"
   ]
  },
  {
   "cell_type": "code",
   "execution_count": null,
   "metadata": {},
   "outputs": [],
   "source": [
    "plt.figure(figsize=(20, 8))\n",
    "for ch_serial in df['measuringpoint_serial'].unique():\n",
    "    plt.plot(df[df['measuringpoint_serial'] == ch_serial].timestamp_value, \n",
    "             df[df['measuringpoint_serial'] == ch_serial].value_text, \n",
    "             label=ch_serial)\n",
    "    plt.legend()\n",
    "plt.show()"
   ]
  },
  {
   "cell_type": "code",
   "execution_count": null,
   "metadata": {},
   "outputs": [],
   "source": [
    "df.to_csv('cpt_power_data.csv', sep='\\t', encoding='utf-8')"
   ]
  }
 ],
 "metadata": {
  "kernelspec": {
   "display_name": "Python 3 (dsaienv)",
   "language": "python",
   "name": "dsaienv"
  },
  "language_info": {
   "codemirror_mode": {
    "name": "ipython",
    "version": 3
   },
   "file_extension": ".py",
   "mimetype": "text/x-python",
   "name": "python",
   "nbconvert_exporter": "python",
   "pygments_lexer": "ipython3",
   "version": "3.8.3"
  }
 },
 "nbformat": 4,
 "nbformat_minor": 2
}
